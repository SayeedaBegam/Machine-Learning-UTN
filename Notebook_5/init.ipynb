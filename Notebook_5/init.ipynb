{
 "cells": [
  {
   "cell_type": "code",
   "execution_count": null,
   "metadata": {},
   "outputs": [],
   "source": [
    "import torch\n",
    "import math\n",
    "class LinearL(torch.nn.Linear):\n",
    "    def reset_parameters(self) -> None:\n",
    "        torch.nn.init.normal_(self.weight, 0, 1)\n",
    "        torch.nn.init.constant_(self.bias, 0)\n",
    "\n",
    "class LinearS(torch.nn.Linear):\n",
    "    def reset_parameters(self) -> None:\n",
    "        torch.nn.init.normal_(self.weight, 0, 0.1)\n",
    "        torch.nn.init.constant_(self.bias, 0)\n",
    "\n",
    "class LinearG(torch.nn.Linear):\n",
    "    def reset_parameters(self) -> None:\n",
    "        torch.nn.init.normal_(self.weight, 0, 1/math.sqrt(10))\n",
    "        torch.nn.init.constant_(self.bias, 0)\n",
    "\n",
    "class NN(torch.nn.Module):\n",
    "    def __init__(self, l, layer):\n",
    "        super().__init__()\n",
    "        self.net = torch.nn.Sequential(*(layer(10, 10) for i in range(l)))\n",
    "    def forward(self, i):\n",
    "        return self.net(i)\n",
    "\n",
    "def deep():\n",
    "    n = 10\n",
    "    net = NN(n, LinearG)\n",
    "    data = torch.randn(1, 10)\n",
    "    out = net(data)\n",
    "    print(out.mean().abs(), out.std())\n",
    "\n",
    "deep()\n",
    "    "
   ]
  }
 ],
 "metadata": {
  "kernelspec": {
   "display_name": "Python 3.11.6 ('venv311': venv)",
   "language": "python",
   "name": "python3"
  },
  "language_info": {
   "codemirror_mode": {
    "name": "ipython",
    "version": 3
   },
   "file_extension": ".py",
   "mimetype": "text/x-python",
   "name": "python",
   "nbconvert_exporter": "python",
   "pygments_lexer": "ipython3",
   "version": "3.11.6"
  },
  "orig_nbformat": 4,
  "vscode": {
   "interpreter": {
    "hash": "de5b31044833cea9ee377c5b8455b5e41e391cda0b415044581a804fd2c5baa8"
   }
  }
 },
 "nbformat": 4,
 "nbformat_minor": 2
}
