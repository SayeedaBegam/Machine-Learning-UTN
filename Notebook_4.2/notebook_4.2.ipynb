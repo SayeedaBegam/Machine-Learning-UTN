{
 "cells": [
  {
   "cell_type": "markdown",
   "id": "e913afbc",
   "metadata": {},
   "source": [
    "# Assignment 4: Logistic Regression and Gaussian Process Regression\n",
    "\n",
    "### Machine Learning Basic Module\n",
    "Florian Walter, Tobias Jülg, Pierre Krack\n",
    "\n",
    "## General Information About Implementation Assignments\n",
    "We will use the Jupyter Notebook for our implementation exercises. The task description will be provided in the notebook. The code is also run in the notebook. However, the implementation itself is done in additional files which are imported in the notebook. Please do not provide any implementation that you want to be considered for correction in this notebook, but only in Python files in the marked positions. A content of a Python file could for example look similar as shown below:\n",
    "```python\n",
    "def f():\n",
    "    ########################################################################\n",
    "    # YOUR CODE\n",
    "    # TODO: Implement this function\n",
    "    ########################################################################\n",
    "    pass\n",
    "    ########################################################################\n",
    "    # END OF YOUR CODE\n",
    "    ########################################################################\n",
    "```\n",
    "To complete the exercise, remove the `pass` command and only use space inside the `YOUR CODE` block to provide a solution. Other lines within the file may not be changed in order to deliver a valid submission.\n",
    "\n",
    "\n",
    "### Imports"
   ]
  },
  {
   "cell_type": "code",
   "execution_count": null,
   "id": "d9b1c80e",
   "metadata": {
    "scrolled": true
   },
   "outputs": [],
   "source": [
    "%reload_ext autoreload\n",
    "%autoreload 2\n",
    "\n",
    "from pathlib import Path\n",
    "from urllib.request import urlretrieve\n",
    "\n",
    "import numpy as np\n",
    "import matplotlib as mpl\n",
    "import matplotlib.pyplot as plt\n",
    "\n",
    "from gpr import load_and_split, train_and_predict\n",
    "\n",
    "width = 9.5\n",
    "plt.rcParams['figure.figsize'] = [width, width / 1.618] \n",
    "plt.rcParams['figure.dpi'] = 100\n",
    "UTNRED = \"#f5735f\"\n",
    "UTNBLUE = \"#0087dc\"\n",
    "mpl.rcParams['path.simplify'] = True"
   ]
  },
  {
   "cell_type": "markdown",
   "id": "78d34eb2",
   "metadata": {},
   "source": [
    "## Gaussian Process Regression\n",
    "\n",
    "This exercise will focus more on the practical ML workflow: you will use a real recent robotics dataset to learn the forward dynamics of a robot.\n",
    "The result will be a predictor that can be used to simulate the movement of this robot, which could be used to generate more data or for reinforcement learning purposes.\n",
    "\n",
    "The goal will be to use the [sklearn implementation](https://scikit-learn.org/stable/modules/generated/sklearn.gaussian_process.GaussianProcessRegressor.html) of Gaussian Process Regression to learn the forward dynamics of the 3 DoF robot arm shown below.\n",
    "\n",
    "<img src=\"https://raw.githubusercontent.com/rr-learning/transferable_dynamics_dataset/master/img/16.png\" width=500 height=500 />\n",
    "\n",
    "Because the focus is on a real-world workflow and not on understanding some theoretical concept, this exercise will be less guided than the ones before.\n",
    "\n",
    "While working through the assignment, you will probably have many questions.\n",
    "Please post them on Canvas.\n",
    "We will look at this discussion to make sure you don't get stuck and are not going down a wrong path.\n",
    "\n",
    "### The dataset\n",
    "Every machine learning project (except for reinforcement learning) starts with a dataset.\n",
    "Sometimes that dataset is given and your task is to analyze it (data science), other times the dataset is a means to an end.\n",
    "In the latter case, the first step involves searching for datasets that are suited to your task, potentially comparing a few, or, in the worst case, creating a new dataset—a potentially massive undertaking.\n",
    "\n",
    "For the purpose of this exercise, we did this first step for you!\n",
    "Visit the dataset's [github repository](https://github.com/rr-learning/transferable_dynamics_dataset/tree/master).\n",
    "The [corresponding paper](https://ieeexplore.ieee.org/abstract/document/9197392) contains additional information that is relevant for this exercise.\n",
    "You should be able to access this paper through UTN if you are in the eduroam network at UTN.\n",
    "Let us know if you can not access it for some reason.\n",
    "This dataset was first published at the [2020 International Conference on Robotics and Automation (ICRA)](https://ieeexplore.ieee.org/xpl/conhome/9187508/proceeding), a conference you will often encounter during your studies, and, if you follow an academic path in the field of robotics, probably visit one day.\n",
    "\n",
    "We provide our own link to the data; make sure you are connected to the internet (or the server on which this notebook's kernel is running on) and run the next cell to download the dataset."
   ]
  },
  {
   "cell_type": "code",
   "execution_count": null,
   "id": "fcc808ac",
   "metadata": {},
   "outputs": [],
   "source": [
    "FILE_NAME=\"Sines_full.npz\"\n",
    "DATA_URL=f\"https://faubox.rrze.uni-erlangen.de/dl/fiPEC8zDDyJ6sEr9GtBBr4/{FILE_NAME}\"\n",
    "file_path = Path(FILE_NAME)\n",
    "if not file_path.exists():\n",
    "    print(\"Downloading data. Might take a while depending on your internet connection.\")\n",
    "    urlretrieve(DATA_URL, filename=FILE_NAME)\n",
    "    print(\"Done\")"
   ]
  },
  {
   "cell_type": "markdown",
   "id": "822d01a9",
   "metadata": {},
   "source": [
    "After you have found a dataset, you will want to use it in a programming language.\n",
    "Depending on the quality of the dataset, the format it is distributed in and the programming language you use, this can be more or less straightforward.\n",
    "\n",
    "We, of course, chose a very high quality dataset. 😉\n",
    "\n",
    "But you still need to understand it.\n",
    "So this will be your first task!\n",
    "\n",
    ">**Task 5** Use the website of the dataset, the corresponding publication, and python to load, inspect, understand and finally split the dataset into a training set and a testing set.\n",
    "Drop some samples from the data such that it looks like it was generated by a 100Hz control loop instead of a 1kHz one (vanilla GPR slows down with large datasets).\n",
    "Use only the first rollout from the dataset, which corresponds to the lower frequency sine waves and the restricted workspace (i.e. the simplest case).\n",
    "Use the first five seconds for the training split and the remaining ones for the test split.\n",
    "Only use the data from the first joint.\n",
    ">\n",
    ">Hints:\n",
    "> * We download only the full dataset, not the pre-split training and testing ones.\n",
    "This is because we use our own split, since we use vanilla GPR, whereas in the paper they use an extension to GPRs which allows it to learn on larger datasets.\n",
    "> * The following cell should print: `((500, 1), (500, 1), (1000, 1), (1000, 1))`\n",
    "> * Don't overdo it, you can solve this task with about five lines. The task is more about researching and understanding than coding.\n",
    "> * Remember that we want to learn the *forward dynamics* of the robot. What should be X and what should be y?"
   ]
  },
  {
   "cell_type": "code",
   "execution_count": null,
   "id": "899eaa56",
   "metadata": {},
   "outputs": [],
   "source": [
    "x_train, y_train, x_test, y_test = load_and_split(file_path)\n",
    "tuple(split.shape for split in (x_train, y_train, x_test, y_test))"
   ]
  },
  {
   "cell_type": "markdown",
   "id": "c7d62b59",
   "metadata": {},
   "source": [
    "### Applying GPR\n",
    "The next part of a typical machine learning project is then to apply machine learning algorithms.\n",
    ">**Task 6** use the [sklearn implementation](https://scikit-learn.org/stable/modules/generated/sklearn.gaussian_process.GaussianProcessRegressor.html) of GPR with a radial basis function (RBF) kernel to train on the training data, then return the mean and standard deviation of the prediction.\n",
    "Run the next cell, the plot should resemble this:\n",
    "![expected result](./expected.png)\n",
    "You can use the interactive matplotlib interface to zoom in and scroll around.\n",
    ">\n",
    ">Hints:\n",
    ">* You will need to tweak the parameters of the `GaussianProcessRegressor` class.\n",
    ">* If your results look strange, make sure to look at the sklearn documentation for both the [RBF kernel](https://scikit-learn.org/stable/modules/generated/sklearn.gaussian_process.kernels.RBF.html) and the [`GaussianProcessRegressor`](https://scikit-learn.org/stable/modules/generated/sklearn.gaussian_process.GaussianProcessRegressor.html). It includes examples of how they are used."
   ]
  },
  {
   "cell_type": "code",
   "execution_count": null,
   "id": "0a63d0eb",
   "metadata": {},
   "outputs": [],
   "source": [
    "# change to %matplotlib inline if interactive plotting does not work.\n",
    "%matplotlib notebook \n",
    "mean_prediction, std_prediction = train_and_predict(file_path)\n",
    "fig, axs = plt.subplots(2, sharex=True)\n",
    "x = np.arange(0, x_test.shape[0]) / 100\n",
    "axs[0].plot(x, x_test.flatten(), label=\"desired torques\", color=UTNBLUE)\n",
    "axs[1].plot(x, y_test.flatten(), label=\"measured angle\", color=UTNBLUE)\n",
    "axs[1].plot(x, mean_prediction, color=UTNRED, label=\"predicted angle\")\n",
    "axs[1].fill_between(x, mean_prediction - 1.96 * std_prediction,\n",
    "    mean_prediction + 1.96 * std_prediction, alpha=0.5, color=UTNRED, label=\"Prediction 95% confidence\")\n",
    "axs[1].set_xlabel(\"Time (s)\")\n",
    "axs[0].set_ylabel(\"Torque (Nm)\")\n",
    "axs[1].set_ylabel(\"Angles (rad)\")\n",
    "axs[0].legend(loc=\"upper center\", bbox_to_anchor=(0.5, 1.2))\n",
    "axs[1].legend(loc=\"upper center\", bbox_to_anchor=(0.5, 1.2), ncols=3)\n",
    "plt.show()"
   ]
  },
  {
   "cell_type": "markdown",
   "id": "28f10d48",
   "metadata": {},
   "source": [
    "The next step would be to analyze the results.\n",
    "You might run a hyperparameter optimization algorithm, compare the influence of different parameters, measure the errors in your predictions etc. etc.\n",
    "\n",
    "But you are done for today!"
   ]
  }
 ],
 "metadata": {
  "kernelspec": {
   "display_name": "Python 3 (ipykernel)",
   "language": "python",
   "name": "python3"
  },
  "language_info": {
   "codemirror_mode": {
    "name": "ipython",
    "version": 3
   },
   "file_extension": ".py",
   "mimetype": "text/x-python",
   "name": "python",
   "nbconvert_exporter": "python",
   "pygments_lexer": "ipython3",
   "version": "3.11.5"
  },
  "vscode": {
   "interpreter": {
    "hash": "0b8a5057c7e2cecd197d95ba04c7f4e3876d0ce5d765d787bef6dc282ede963d"
   }
  }
 },
 "nbformat": 4,
 "nbformat_minor": 5
}
